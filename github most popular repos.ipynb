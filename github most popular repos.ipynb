{
 "cells": [
  {
   "cell_type": "code",
   "execution_count": 1,
   "metadata": {},
   "outputs": [],
   "source": [
    "from pyspark.sql import SparkSession\n",
    "\n",
    "spark = SparkSession.builder \\\n",
    "    .appName(\"GitHub Data Processing\") \\\n",
    "    .config(\"spark.driver.extraClassPath\", \"D:/Coding/Data Engineering/Mentorship/Github Most Popular repos/spark_jars/mysql-connector-j-9.2.0.jar\").getOrCreate()"
   ]
  },
  {
   "cell_type": "code",
   "execution_count": 2,
   "metadata": {},
   "outputs": [
    {
     "name": "stdout",
     "output_type": "stream",
     "text": [
      "root\n",
      " |-- _corrupt_record: string (nullable = true)\n",
      " |-- created: string (nullable = true)\n",
      " |-- description: string (nullable = true)\n",
      " |-- forks: long (nullable = true)\n",
      " |-- full_name: string (nullable = true)\n",
      " |-- id: long (nullable = true)\n",
      " |-- language: string (nullable = true)\n",
      " |-- open_issues: long (nullable = true)\n",
      " |-- repo_name: string (nullable = true)\n",
      " |-- stars: long (nullable = true)\n",
      " |-- subscribers: long (nullable = true)\n",
      " |-- topics: array (nullable = true)\n",
      " |    |-- element: string (containsNull = true)\n",
      " |-- type: string (nullable = true)\n",
      " |-- username: string (nullable = true)\n",
      "\n"
     ]
    }
   ],
   "source": [
    "df = spark.read.json(\"archive/*.json\")  # Replace with actual file path\n",
    "df.printSchema()"
   ]
  },
  {
   "cell_type": "code",
   "execution_count": 3,
   "metadata": {},
   "outputs": [
    {
     "name": "stdout",
     "output_type": "stream",
     "text": [
      "+---------------+-------------------+--------------------+-----+--------------------+---------+--------+-----------+-----------------+-----+-----------+--------------------+------------+---------+\n",
      "|_corrupt_record|            created|         description|forks|           full_name|       id|language|open_issues|        repo_name|stars|subscribers|              topics|        type| username|\n",
      "+---------------+-------------------+--------------------+-----+--------------------+---------+--------+-----------+-----------------+-----+-----------+--------------------+------------+---------+\n",
      "|           null|2014-02-25 08:00:08|Apache Spark - A ...|25357|        apache/spark| 17165658|   Scala|        242|            spark|32296|       2080|[python, scala, r...|Organization|   apache|\n",
      "|           null|2017-08-09 19:39:59|Distributed train...| 2027|     horovod/horovod| 99846383|  Python|        298|          horovod|12219|        334|[tensorflow, uber...|Organization|  horovod|\n",
      "|           null|2014-08-08 07:30:51|Notes talking abo...| 1773|JerryLead/SparkIn...| 22749672|    null|         27|   SparkInternals| 4774|        619|                  []|        User|JerryLead|\n",
      "|           null|2019-04-22 18:56:51|An open-source st...|  985|      delta-io/delta|182849188|   Scala|        180|            delta| 4164|        188|[spark, acid, big...|Organization| delta-io|\n",
      "|           null|2017-01-20 18:15:57|TensorFlowOnSpark...|  966|yahoo/TensorFlowO...| 79584587|  Python|          6|TensorFlowOnSpark| 3768|        286|[tensorflow, spar...|Organization|    yahoo|\n",
      "+---------------+-------------------+--------------------+-----+--------------------+---------+--------+-----------+-----------------+-----+-----------+--------------------+------------+---------+\n",
      "only showing top 5 rows\n",
      "\n"
     ]
    }
   ],
   "source": [
    "df.show(5)"
   ]
  },
  {
   "cell_type": "code",
   "execution_count": 4,
   "metadata": {},
   "outputs": [
    {
     "name": "stdout",
     "output_type": "stream",
     "text": [
      "+----------------+---------+\n",
      "|        language|num_repos|\n",
      "+----------------+---------+\n",
      "|      JavaScript|     5293|\n",
      "|          Python|     4861|\n",
      "|      TypeScript|     2816|\n",
      "|              Go|     1868|\n",
      "|            null|     1425|\n",
      "|            Java|     1418|\n",
      "|Jupyter Notebook|     1291|\n",
      "|           Scala|     1178|\n",
      "|             C++|      952|\n",
      "|            Dart|      855|\n",
      "|          Kotlin|      830|\n",
      "|           Julia|      806|\n",
      "|            HTML|      524|\n",
      "|           Shell|      520|\n",
      "|              C#|      336|\n",
      "|               C|      321|\n",
      "|             CSS|      227|\n",
      "|     Objective-C|      192|\n",
      "|            Ruby|      174|\n",
      "|            Rust|      165|\n",
      "+----------------+---------+\n",
      "only showing top 20 rows\n",
      "\n"
     ]
    }
   ],
   "source": [
    "from pyspark.sql.functions import *\n",
    "\n",
    "df_lang = df.groupBy(\"language\").agg(count(\"*\").alias(\"num_repos\"))\n",
    "df_lang = df_lang.sort(desc(\"num_repos\"))\n",
    "df_lang.show()"
   ]
  },
  {
   "cell_type": "code",
   "execution_count": 5,
   "metadata": {},
   "outputs": [
    {
     "name": "stdout",
     "output_type": "stream",
     "text": [
      "+-----------------+-----------+\n",
      "|organization_name|total_stars|\n",
      "+-----------------+-----------+\n",
      "|        microsoft|    1011553|\n",
      "|       tensorflow|     859765|\n",
      "|         facebook|     627455|\n",
      "|           apache|     433004|\n",
      "|          angular|     352533|\n",
      "|      huggingface|     306537|\n",
      "|           google|     289449|\n",
      "|          pytorch|     255202|\n",
      "|      gothinkster|     218946|\n",
      "|      storybookjs|     208451|\n",
      "|       kubernetes|     206820|\n",
      "|       keras-team|     195019|\n",
      "|           vercel|     180974|\n",
      "|          alibaba|     172746|\n",
      "|          Tencent|     159319|\n",
      "|          flutter|     159010|\n",
      "|           nodejs|     144071|\n",
      "|           docker|     142690|\n",
      "|          ohmyzsh|     141449|\n",
      "|             dmlc|     139827|\n",
      "+-----------------+-----------+\n",
      "only showing top 20 rows\n",
      "\n"
     ]
    }
   ],
   "source": [
    "df_org = df.filter(col(\"type\") == \"Organization\") \\\n",
    "    .groupBy(\"username\") \\\n",
    "    .agg(sum(\"stars\").alias(\"total_stars\")) \\\n",
    "    .withColumnRenamed(\"username\", \"organization_name\")\n",
    "\n",
    "df_org = df_org.sort(desc(\"total_stars\"))\n",
    "df_org.show()\n"
   ]
  },
  {
   "cell_type": "code",
   "execution_count": 6,
   "metadata": {},
   "outputs": [
    {
     "name": "stdout",
     "output_type": "stream",
     "text": [
      "+--------------------+---------------+\n",
      "|           repo_name|relevance_score|\n",
      "+--------------------+---------------+\n",
      "|          tensorflow|      309867.30|\n",
      "|          tensorflow|      309857.60|\n",
      "|          tensorflow|      309854.02|\n",
      "|               react|      256810.22|\n",
      "|   developer-roadmap|      246966.98|\n",
      "|             ohmyzsh|      186208.60|\n",
      "|             flutter|      179141.36|\n",
      "|              vscode|      170980.94|\n",
      "|              models|      147932.40|\n",
      "|        react-native|      143317.90|\n",
      "|        react-native|      143222.38|\n",
      "|              opencv|      141480.16|\n",
      "|          kubernetes|      141126.72|\n",
      "|free-programming-...|      137006.78|\n",
      "|free-programming-...|      137004.24|\n",
      "|free-programming-...|      136770.88|\n",
      "|    create-react-app|      136334.56|\n",
      "|            three.js|      133498.50|\n",
      "|          ant-design|      131601.74|\n",
      "|                node|      127568.42|\n",
      "+--------------------+---------------+\n",
      "only showing top 20 rows\n",
      "\n"
     ]
    }
   ],
   "source": [
    "df_relevance = df.withColumn(\n",
    "    \"relevance_score\",\n",
    "    expr(\"1.5 * forks + 1.32 * subscribers + 1.04 * stars\")\n",
    ").select(\"repo_name\", \"relevance_score\")\n",
    "\n",
    "df_relevance = df_relevance.sort(desc(\"relevance_score\"))\n",
    "df_relevance.show()"
   ]
  },
  {
   "cell_type": "code",
   "execution_count": 7,
   "metadata": {},
   "outputs": [],
   "source": [
    "jdbc_url = \"jdbc:mysql://localhost:3306/github_data\"\n",
    "db_properties = {\n",
    "    \"user\": \"root\",\n",
    "    \"password\": \"0000\",\n",
    "    \"driver\": \"com.mysql.cj.jdbc.Driver\"\n",
    "}"
   ]
  },
  {
   "cell_type": "code",
   "execution_count": null,
   "metadata": {},
   "outputs": [],
   "source": [
    "df_lang.write.jdbc(url=jdbc_url, table=\"programming_lang\", mode=\"overwrite\", properties=db_properties)\n",
    "df_org.write.jdbc(url=jdbc_url, table=\"organizations_stars\", mode=\"overwrite\", properties=db_properties)\n",
    "df_relevance.write.jdbc(url=jdbc_url, table=\"search_terms_relevance\", mode=\"overwrite\", properties=db_properties)"
   ]
  }
 ],
 "metadata": {
  "kernelspec": {
   "display_name": ".venv",
   "language": "python",
   "name": "python3"
  },
  "language_info": {
   "codemirror_mode": {
    "name": "ipython",
    "version": 3
   },
   "file_extension": ".py",
   "mimetype": "text/x-python",
   "name": "python",
   "nbconvert_exporter": "python",
   "pygments_lexer": "ipython3",
   "version": "3.11.2"
  }
 },
 "nbformat": 4,
 "nbformat_minor": 2
}
